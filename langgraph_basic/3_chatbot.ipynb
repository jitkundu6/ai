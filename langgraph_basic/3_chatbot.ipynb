{
 "cells": [
  {
   "cell_type": "code",
   "execution_count": 44,
   "id": "625ee3ba",
   "metadata": {},
   "outputs": [
    {
     "data": {
      "text/plain": [
       "True"
      ]
     },
     "execution_count": 44,
     "metadata": {},
     "output_type": "execute_result"
    }
   ],
   "source": [
    "from dotenv import load_dotenv\n",
    "# Load environment variables from .env file\n",
    "load_dotenv()"
   ]
  },
  {
   "cell_type": "code",
   "execution_count": 45,
   "id": "d2e0952f",
   "metadata": {},
   "outputs": [],
   "source": [
    "import os\n",
    "openai_key = os.getenv(\"OPENAI_API_KEY\")\n",
    "openai_api_base = os.getenv(\"OPENAI_API_BASE\")\n",
    "openai_api_version = \"2025-01-01-preview\"\n",
    "model = \"gpt-4.1\""
   ]
  },
  {
   "cell_type": "code",
   "execution_count": 46,
   "id": "ffa2a8bd",
   "metadata": {},
   "outputs": [
    {
     "name": "stderr",
     "output_type": "stream",
     "text": [
      "/home/skundu/Documents/MY_PROJECT/ai/venv/lib/python3.12/site-packages/langchain_community/chat_models/azure_openai.py:174: UserWarning: As of openai>=1.0.0, Azure endpoints should be specified via the `azure_endpoint` param not `openai_api_base` (or alias `base_url`). Updating `openai_api_base` from https://optra-kolkata-openai.openai.azure.com/ to https://optra-kolkata-openai.openai.azure.com/openai.\n",
      "  warnings.warn(\n",
      "/home/skundu/Documents/MY_PROJECT/ai/venv/lib/python3.12/site-packages/langchain_community/chat_models/azure_openai.py:181: UserWarning: As of openai>=1.0.0, if `deployment_name` (or alias `azure_deployment`) is specified then `openai_api_base` (or alias `base_url`) should not be. Instead use `deployment_name` (or alias `azure_deployment`) and `azure_endpoint`.\n",
      "  warnings.warn(\n",
      "/home/skundu/Documents/MY_PROJECT/ai/venv/lib/python3.12/site-packages/langchain_community/chat_models/azure_openai.py:189: UserWarning: As of openai>=1.0.0, if `openai_api_base` (or alias `base_url`) is specified it is expected to be of the form https://example-resource.azure.openai.com/openai/deployments/example-deployment. Updating https://optra-kolkata-openai.openai.azure.com/ to https://optra-kolkata-openai.openai.azure.com/openai.\n",
      "  warnings.warn(\n"
     ]
    }
   ],
   "source": [
    "from langchain.chat_models import AzureChatOpenAI\n",
    "\n",
    "llm = AzureChatOpenAI(\n",
    "    openai_api_key=openai_key,\n",
    "    openai_api_base=openai_api_base,\n",
    "    deployment_name=model,\n",
    "    openai_api_version=openai_api_version,  # Or your specific version\n",
    "    temperature=0.0,\n",
    "    max_tokens=1000,\n",
    "    max_retries=3\n",
    ")"
   ]
  },
  {
   "cell_type": "code",
   "execution_count": 47,
   "id": "425471f8",
   "metadata": {},
   "outputs": [
    {
     "data": {
      "text/plain": [
       "AIMessage(content=\"Hello! I'm just a program, so I don't have feelings, but I'm here and ready to help you. How can I assist you today?\", additional_kwargs={}, response_metadata={'token_usage': {'completion_tokens': 30, 'prompt_tokens': 13, 'total_tokens': 43, 'completion_tokens_details': {'accepted_prediction_tokens': 0, 'audio_tokens': 0, 'reasoning_tokens': 0, 'rejected_prediction_tokens': 0}, 'prompt_tokens_details': {'audio_tokens': 0, 'cached_tokens': 0}}, 'model_name': 'gpt-4.1-2025-04-14', 'system_fingerprint': 'fp_b663f05c2c', 'finish_reason': 'stop', 'logprobs': None}, id='run--c499941c-ff43-46db-83e4-bdc6b198767e-0')"
      ]
     },
     "execution_count": 47,
     "metadata": {},
     "output_type": "execute_result"
    }
   ],
   "source": [
    "# Example usage of the llm\n",
    "llm.invoke(\"Hello, how are you?\")"
   ]
  },
  {
   "cell_type": "code",
   "execution_count": 48,
   "id": "9d7a7195",
   "metadata": {},
   "outputs": [],
   "source": [
    "from typing import TypedDict, Annotated\n",
    "from langgraph.graph.message import add_messages\n",
    "\n",
    "class State(TypedDict):\n",
    "    messages: Annotated[list, add_messages]\n",
    "\n",
    "def chatbot(state: State) -> State:\n",
    "    \"\"\"\n",
    "    A simple chatbot function that invokes the LLM with the current state messages.\n",
    "    \"\"\"\n",
    "    return {\"messages\": [llm.invoke(state[\"messages\"])]}  # Assuming state[\"messages\"] is a list of messages"
   ]
  },
  {
   "cell_type": "code",
   "execution_count": 49,
   "id": "d0143c1c",
   "metadata": {},
   "outputs": [],
   "source": [
    "from langgraph.graph import StateGraph, START, END\n",
    "\n",
    "builder = StateGraph(State)\n",
    "builder.add_node(\"chatbot_node\", chatbot)\n",
    "\n",
    "builder.add_edge(START, \"chatbot_node\")\n",
    "builder.add_edge(\"chatbot_node\", END)\n",
    "\n",
    "graph = builder.compile()"
   ]
  },
  {
   "cell_type": "code",
   "execution_count": 50,
   "id": "42736632",
   "metadata": {},
   "outputs": [
    {
     "data": {
      "image/png": "[encoded data removed]",
      "text/plain": [
       "<IPython.core.display.Image object>"
      ]
     },
     "metadata": {},
     "output_type": "display_data"
    }
   ],
   "source": [
    "# pip install graphviz\n",
    "from IPython.display import display, Image\n",
    "\n",
    "display(Image(graph.get_graph().draw_mermaid_png()))"
   ]
  },
  {
   "cell_type": "code",
   "execution_count": 51,
   "id": "6d39e06a",
   "metadata": {},
   "outputs": [
    {
     "data": {
      "text/plain": [
       "[HumanMessage(content='Hi, how are you?', additional_kwargs={}, response_metadata={}, id='90254d5d-3140-459f-bda8-16dfc06e365c'),\n",
       " AIMessage(content=\"Hello! I'm just a program, so I don't have feelings, but I'm here and ready to help you. How can I assist you today?\", additional_kwargs={}, response_metadata={'token_usage': {'completion_tokens': 30, 'prompt_tokens': 13, 'total_tokens': 43, 'completion_tokens_details': {'accepted_prediction_tokens': 0, 'audio_tokens': 0, 'reasoning_tokens': 0, 'rejected_prediction_tokens': 0}, 'prompt_tokens_details': {'audio_tokens': 0, 'cached_tokens': 0}}, 'model_name': 'gpt-4.1-2025-04-14', 'system_fingerprint': 'fp_b663f05c2c', 'finish_reason': 'stop', 'logprobs': None}, id='run--6c861557-e44d-42a3-9c7e-6b15a2cb1f4e-0')]"
      ]
     },
     "execution_count": 51,
     "metadata": {},
     "output_type": "execute_result"
    }
   ],
   "source": [
    "messages = {\n",
    "            \"role\": \"user\",\n",
    "            \"content\": \"Hi, how are you?\",\n",
    "            }\n",
    "response = graph.invoke({\"messages\": [messages]}) \n",
    "response['messages']"
   ]
  },
  {
   "cell_type": "code",
   "execution_count": 52,
   "id": "ee00a9f0",
   "metadata": {},
   "outputs": [
    {
     "name": "stdout",
     "output_type": "stream",
     "text": [
      "state:  [HumanMessage(content='Last footbal wc?', additional_kwargs={}, response_metadata={}, id='e65c4e4e-21a3-41e7-8de2-bcdd5b5ebb7d'), AIMessage(content=\"The most recent FIFA World Cup was held in **Qatar in 2022**. The tournament took place from **November 20 to December 18, 2022**. **Argentina** won the World Cup, defeating **France** in the final after a dramatic 3-3 draw, with Argentina winning **4-2 on penalties**. Lionel Messi was a standout player and was awarded the Golden Ball as the tournament's best player.\\n\\nThe next FIFA World Cup will be held in **2026** in the United States, Canada, and Mexico.\", additional_kwargs={}, response_metadata={'token_usage': {'completion_tokens': 115, 'prompt_tokens': 12, 'total_tokens': 127, 'completion_tokens_details': {'accepted_prediction_tokens': 0, 'audio_tokens': 0, 'reasoning_tokens': 0, 'rejected_prediction_tokens': 0}, 'prompt_tokens_details': {'audio_tokens': 0, 'cached_tokens': 0}}, 'model_name': 'gpt-4.1-2025-04-14', 'system_fingerprint': 'fp_b663f05c2c', 'finish_reason': 'stop', 'logprobs': None}, id='run--cfbad3e6-bc82-45db-9ecf-da70cc826c03-0')]\n",
      "YOU: Last footbal wc?\n",
      "BOT: The most recent FIFA World Cup was held in **Qatar in 2022**. The tournament took place from **November 20 to December 18, 2022**. **Argentina** won the World Cup, defeating **France** in the final after a dramatic 3-3 draw, with Argentina winning **4-2 on penalties**. Lionel Messi was a standout player and was awarded the Golden Ball as the tournament's best player.\n",
      "\n",
      "The next FIFA World Cup will be held in **2026** in the United States, Canada, and Mexico.\n",
      "state:  [HumanMessage(content='Last footbal wc?', additional_kwargs={}, response_metadata={}, id='e65c4e4e-21a3-41e7-8de2-bcdd5b5ebb7d'), AIMessage(content=\"The most recent FIFA World Cup was held in **Qatar in 2022**. The tournament took place from **November 20 to December 18, 2022**. **Argentina** won the World Cup, defeating **France** in the final after a dramatic 3-3 draw, with Argentina winning **4-2 on penalties**. Lionel Messi was a standout player and was awarded the Golden Ball as the tournament's best player.\\n\\nThe next FIFA World Cup will be held in **2026** in the United States, Canada, and Mexico.\", additional_kwargs={}, response_metadata={'token_usage': {'completion_tokens': 115, 'prompt_tokens': 12, 'total_tokens': 127, 'completion_tokens_details': {'accepted_prediction_tokens': 0, 'audio_tokens': 0, 'reasoning_tokens': 0, 'rejected_prediction_tokens': 0}, 'prompt_tokens_details': {'audio_tokens': 0, 'cached_tokens': 0}}, 'model_name': 'gpt-4.1-2025-04-14', 'system_fingerprint': 'fp_b663f05c2c', 'finish_reason': 'stop', 'logprobs': None}, id='run--cfbad3e6-bc82-45db-9ecf-da70cc826c03-0'), HumanMessage(content='captain?', additional_kwargs={}, response_metadata={}, id='7492433c-ccf9-4065-a5bb-2a7238ae581d'), AIMessage(content='The captain of the Argentina national football team during the **2022 FIFA World Cup** was **Lionel Messi**. He led Argentina to victory, playing a crucial role throughout the tournament and especially in the final against France.', additional_kwargs={}, response_metadata={'token_usage': {'completion_tokens': 46, 'prompt_tokens': 137, 'total_tokens': 183, 'completion_tokens_details': {'accepted_prediction_tokens': 0, 'audio_tokens': 0, 'reasoning_tokens': 0, 'rejected_prediction_tokens': 0}, 'prompt_tokens_details': {'audio_tokens': 0, 'cached_tokens': 0}}, 'model_name': 'gpt-4.1-2025-04-14', 'system_fingerprint': 'fp_b663f05c2c', 'finish_reason': 'stop', 'logprobs': None}, id='run--a74974ff-c82a-4cc9-8da1-ba1a73a668f6-0')]\n",
      "YOU: captain?\n",
      "BOT: The captain of the Argentina national football team during the **2022 FIFA World Cup** was **Lionel Messi**. He led Argentina to victory, playing a crucial role throughout the tournament and especially in the final against France.\n",
      "state:  [HumanMessage(content='Last footbal wc?', additional_kwargs={}, response_metadata={}, id='e65c4e4e-21a3-41e7-8de2-bcdd5b5ebb7d'), AIMessage(content=\"The most recent FIFA World Cup was held in **Qatar in 2022**. The tournament took place from **November 20 to December 18, 2022**. **Argentina** won the World Cup, defeating **France** in the final after a dramatic 3-3 draw, with Argentina winning **4-2 on penalties**. Lionel Messi was a standout player and was awarded the Golden Ball as the tournament's best player.\\n\\nThe next FIFA World Cup will be held in **2026** in the United States, Canada, and Mexico.\", additional_kwargs={}, response_metadata={'token_usage': {'completion_tokens': 115, 'prompt_tokens': 12, 'total_tokens': 127, 'completion_tokens_details': {'accepted_prediction_tokens': 0, 'audio_tokens': 0, 'reasoning_tokens': 0, 'rejected_prediction_tokens': 0}, 'prompt_tokens_details': {'audio_tokens': 0, 'cached_tokens': 0}}, 'model_name': 'gpt-4.1-2025-04-14', 'system_fingerprint': 'fp_b663f05c2c', 'finish_reason': 'stop', 'logprobs': None}, id='run--cfbad3e6-bc82-45db-9ecf-da70cc826c03-0'), HumanMessage(content='captain?', additional_kwargs={}, response_metadata={}, id='7492433c-ccf9-4065-a5bb-2a7238ae581d'), AIMessage(content='The captain of the Argentina national football team during the **2022 FIFA World Cup** was **Lionel Messi**. He led Argentina to victory, playing a crucial role throughout the tournament and especially in the final against France.', additional_kwargs={}, response_metadata={'token_usage': {'completion_tokens': 46, 'prompt_tokens': 137, 'total_tokens': 183, 'completion_tokens_details': {'accepted_prediction_tokens': 0, 'audio_tokens': 0, 'reasoning_tokens': 0, 'rejected_prediction_tokens': 0}, 'prompt_tokens_details': {'audio_tokens': 0, 'cached_tokens': 0}}, 'model_name': 'gpt-4.1-2025-04-14', 'system_fingerprint': 'fp_b663f05c2c', 'finish_reason': 'stop', 'logprobs': None}, id='run--a74974ff-c82a-4cc9-8da1-ba1a73a668f6-0'), HumanMessage(content='score?', additional_kwargs={}, response_metadata={}, id='435ac51f-2ad2-460d-b4d0-2eadfc4194c3'), AIMessage(content=\"The final score of the **2022 FIFA World Cup final** between **Argentina** and **France** was:\\n\\n**Argentina 3 – 3 France** (after extra time)\\n\\nArgentina won **4–2 on penalties**.\\n\\n**Goal scorers:**\\n- **Argentina:** Lionel Messi (23' penalty, 108'), Ángel Di María (36')\\n- **France:** Kylian Mbappé (80' penalty, 81', 118' penalty)\\n\\nAfter a thrilling match and extra time, the game went to penalties, where Argentina emerged victorious.\", additional_kwargs={}, response_metadata={'token_usage': {'completion_tokens': 116, 'prompt_tokens': 192, 'total_tokens': 308, 'completion_tokens_details': {'accepted_prediction_tokens': 0, 'audio_tokens': 0, 'reasoning_tokens': 0, 'rejected_prediction_tokens': 0}, 'prompt_tokens_details': {'audio_tokens': 0, 'cached_tokens': 0}}, 'model_name': 'gpt-4.1-2025-04-14', 'system_fingerprint': 'fp_b663f05c2c', 'finish_reason': 'stop', 'logprobs': None}, id='run--22d25c13-7c90-4a84-a504-c6f98df89bdf-0')]\n",
      "YOU: score?\n",
      "BOT: The final score of the **2022 FIFA World Cup final** between **Argentina** and **France** was:\n",
      "\n",
      "**Argentina 3 – 3 France** (after extra time)\n",
      "\n",
      "Argentina won **4–2 on penalties**.\n",
      "\n",
      "**Goal scorers:**\n",
      "- **Argentina:** Lionel Messi (23' penalty, 108'), Ángel Di María (36')\n",
      "- **France:** Kylian Mbappé (80' penalty, 81', 118' penalty)\n",
      "\n",
      "After a thrilling match and extra time, the game went to penalties, where Argentina emerged victorious.\n",
      "Goodbye!\n"
     ]
    }
   ],
   "source": [
    "state = None\n",
    "while True:\n",
    "    user_input = input(\"You: \")\n",
    "    if user_input.lower() in [\"exit\", \"quit\", \"stop\", \"x\", \"q\"]:\n",
    "        print(\"Goodbye!\")\n",
    "        break\n",
    "    messages = {\n",
    "        \"role\": \"user\",\n",
    "        \"content\": user_input,\n",
    "    } \n",
    "    \n",
    "    if state is None:\n",
    "        state : State = {\n",
    "            \"messages\": [messages]\n",
    "        }\n",
    "    else:\n",
    "        state[\"messages\"].append(messages)\n",
    "    \n",
    "    state = graph.invoke(state)\n",
    "    bot_response = state['messages'][-1].content\n",
    "    print(\"state: \",state['messages'])\n",
    "    print(f\"YOU: {user_input}\")\n",
    "    print(f\"BOT: {bot_response}\")"
   ]
  }
 ],
 "metadata": {
  "kernelspec": {
   "display_name": "venv (3.12.3)",
   "language": "python",
   "name": "python3"
  },
  "language_info": {
   "codemirror_mode": {
    "name": "ipython",
    "version": 3
   },
   "file_extension": ".py",
   "mimetype": "text/x-python",
   "name": "python",
   "nbconvert_exporter": "python",
   "pygments_lexer": "ipython3",
   "version": "3.12.3"
  }
 },
 "nbformat": 4,
 "nbformat_minor": 5
}
